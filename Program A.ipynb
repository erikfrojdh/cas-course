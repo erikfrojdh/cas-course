{
 "cells": [
  {
   "cell_type": "markdown",
   "id": "3856513f",
   "metadata": {},
   "source": [
    "# Program A"
   ]
  },
  {
   "cell_type": "code",
   "execution_count": null,
   "id": "19f59564",
   "metadata": {},
   "outputs": [],
   "source": [
    "buff = get_imgptr()\n"
   ]
  }
 ],
 "metadata": {
  "kernelspec": {
   "display_name": "Python 3 (ipykernel)",
   "language": "python",
   "name": "python3"
  },
  "language_info": {
   "codemirror_mode": {
    "name": "ipython",
    "version": 3
   },
   "file_extension": ".py",
   "mimetype": "text/x-python",
   "name": "python",
   "nbconvert_exporter": "python",
   "pygments_lexer": "ipython3",
   "version": "3.9.10"
  }
 },
 "nbformat": 4,
 "nbformat_minor": 5
}
